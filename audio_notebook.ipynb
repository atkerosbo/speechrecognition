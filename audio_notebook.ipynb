{
 "cells": [
  {
   "cell_type": "code",
   "execution_count": null,
   "metadata": {},
   "outputs": [],
   "source": [
    "import wave\n",
    "import numpy as np\n",
    "import matplotlib.pyplot as plt\n",
    "\n",
    "wav_obj = wave.open('output.wav', 'r')\n",
    "\n",
    "sample_freq = wav_obj.getframerate()\n",
    "print(sample_freq)\n",
    "\n",
    "n_samples = wav_obj.getnframes()\n",
    "print(n_samples)\n",
    "\n",
    "t_audio = n_samples/sample_freq\n",
    "print(t_audio, \"seconds\")\n",
    "\n",
    "signal_wave = wav_obj.readframes(n_samples)\n",
    "signal_array = np.frombuffer(signal_wave, dtype=np.int16)\n",
    "print(signal_array.shape)\n",
    "\n",
    "# for stereo:\n",
    "#l_channel = signal_array[0::2]\n",
    "#r_channel = signal_array[1::2]\n",
    "\n",
    "times = np.linspace(0, n_samples/sample_freq, num=n_samples)\n",
    "\n",
    "plt.figure(figsize=(15, 5))\n",
    "plt.plot(times, signal_array)\n",
    "plt.title('Audio')\n",
    "plt.ylabel('Signal Value')\n",
    "plt.xlabel('Time (s)')\n",
    "plt.xlim(0, t_audio)\n",
    "plt.show()"
   ]
  },
  {
   "cell_type": "code",
   "execution_count": null,
   "metadata": {},
   "outputs": [],
   "source": [
    "# `pip3 install assemblyai` (macOS)\n",
    "# `pip install assemblyai` (Windows)\n",
    "\n",
    "import assemblyai as aai\n",
    "\n",
    "aai.settings.api_key = \"07b0312b310e47ac8a8b5bd402f18a13\"\n",
    "transcriber = aai.Transcriber()\n",
    "\n",
    "transcript = transcriber.transcribe(\"https://storage.googleapis.com/aai-web-samples/news.mp4\")\n",
    "# transcript = transcriber.transcribe(\"./my-local-audio-file.wav\")\n",
    "\n",
    "print(transcript.text)"
   ]
  },
  {
   "cell_type": "code",
   "execution_count": null,
   "metadata": {},
   "outputs": [],
   "source": [
    "plt.figure(figsize=(15, 5))\n",
    "plt.specgram(signal_array, Fs=sample_freq, vmin=-20, vmax=50)\n",
    "plt.title('Left Channel')\n",
    "plt.ylabel('Frequency (Hz)')\n",
    "plt.xlabel('Time (s)')\n",
    "plt.xlim(0, t_audio)\n",
    "plt.colorbar()\n",
    "plt.show()"
   ]
  }
 ],
 "metadata": {
  "language_info": {
   "name": "python"
  }
 },
 "nbformat": 4,
 "nbformat_minor": 2
}
