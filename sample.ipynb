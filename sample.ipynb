{
 "cells": [
  {
   "cell_type": "markdown",
   "metadata": {},
   "source": [
    "### Voice recording"
   ]
  },
  {
   "cell_type": "code",
   "execution_count": 1,
   "metadata": {},
   "outputs": [
    {
     "name": "stdout",
     "output_type": "stream",
     "text": [
      "Recording...\n",
      "Finished recording\n"
     ]
    }
   ],
   "source": [
    "import pyaudio\n",
    "import wave\n",
    "\n",
    "# Set up audio parameters\n",
    "FORMAT = pyaudio.paInt16\n",
    "CHANNELS = 1\n",
    "RATE = 44100\n",
    "CHUNK = 1024\n",
    "RECORD_SECONDS = 10\n",
    "WAVE_OUTPUT_FILENAME = \"recorded.wav\"\n",
    "\n",
    "# Initialize PyAudio\n",
    "audio = pyaudio.PyAudio()\n",
    "\n",
    "# Start recording\n",
    "stream = audio.open(format=FORMAT, channels=CHANNELS, rate=RATE, input=True, frames_per_buffer=CHUNK)\n",
    "print(\"Recording...\")\n",
    "\n",
    "frames = []\n",
    "for _ in range(0, int(RATE / CHUNK * RECORD_SECONDS)):\n",
    "    data = stream.read(CHUNK)\n",
    "    frames.append(data)\n",
    "\n",
    "print(\"Finished recording\")\n",
    "\n",
    "# Stop recording\n",
    "stream.stop_stream()\n",
    "stream.close()\n",
    "audio.terminate()\n",
    "\n",
    "# Write audio to a WAV file\n",
    "with wave.open(WAVE_OUTPUT_FILENAME, 'wb') as wave_file:\n",
    "    wave_file.setnchannels(CHANNELS)\n",
    "    wave_file.setsampwidth(audio.get_sample_size(FORMAT))\n",
    "    wave_file.setframerate(RATE)\n",
    "    wave_file.writeframes(b''.join(frames))\n"
   ]
  },
  {
   "cell_type": "markdown",
   "metadata": {},
   "source": [
    "### Speech recognition"
   ]
  },
  {
   "cell_type": "code",
   "execution_count": 2,
   "metadata": {},
   "outputs": [
    {
     "name": "stdout",
     "output_type": "stream",
     "text": [
      "Recognized text: 123 + 123\n"
     ]
    }
   ],
   "source": [
    "import speech_recognition as sr\n",
    "\n",
    "recognizer = sr.Recognizer()\n",
    "\n",
    "# Load the recorded WAV file\n",
    "with sr.AudioFile(WAVE_OUTPUT_FILENAME) as source:\n",
    "    audio_data = recognizer.record(source)\n",
    "\n",
    "    try:\n",
    "        recognized_text = recognizer.recognize_google(audio_data)\n",
    "        print(f\"Recognized text: {recognized_text}\")\n",
    "    except sr.UnknownValueError:\n",
    "        print(\"Could not understand audio\")\n"
   ]
  },
  {
   "cell_type": "code",
   "execution_count": null,
   "metadata": {},
   "outputs": [],
   "source": [
    "with sr.Microphone() as source:\n",
    "    recognizer.pause_threshold = 1  # Adjust as needed\n",
    "    recognizer.adjust_for_ambient_noise(source)\n",
    "    print(\"Listening...\")\n",
    "    audio = recognizer.listen(source)\n"
   ]
  },
  {
   "cell_type": "code",
   "execution_count": null,
   "metadata": {},
   "outputs": [],
   "source": [
    "audio = recognizer.listen(source, timeout=5)  # Record for 5 seconds\n"
   ]
  },
  {
   "cell_type": "code",
   "execution_count": null,
   "metadata": {},
   "outputs": [],
   "source": [
    "audio = recognizer.listen(source, phrase_time_limit=5)  # Limit to 5 seconds per phrase\n"
   ]
  },
  {
   "cell_type": "code",
   "execution_count": null,
   "metadata": {},
   "outputs": [],
   "source": [
    "# Check for wake word\n",
    "if \"hey python\" in recognized_text.lower():\n",
    "    # Continue with recognition\n",
    "    else print(\"Waiting for wake word...\")\n",
    "\n"
   ]
  }
 ],
 "metadata": {
  "kernelspec": {
   "display_name": "venv",
   "language": "python",
   "name": "python3"
  },
  "language_info": {
   "codemirror_mode": {
    "name": "ipython",
    "version": 3
   },
   "file_extension": ".py",
   "mimetype": "text/x-python",
   "name": "python",
   "nbconvert_exporter": "python",
   "pygments_lexer": "ipython3",
   "version": "3.12.0"
  }
 },
 "nbformat": 4,
 "nbformat_minor": 2
}
